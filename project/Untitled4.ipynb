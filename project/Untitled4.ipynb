{
  "nbformat": 4,
  "nbformat_minor": 0,
  "metadata": {
    "colab": {
      "provenance": []
    },
    "kernelspec": {
      "name": "python3",
      "display_name": "Python 3"
    },
    "language_info": {
      "name": "python"
    }
  },
  "cells": [
    {
      "cell_type": "code",
      "execution_count": 5,
      "metadata": {
        "colab": {
          "base_uri": "https://localhost:8080/"
        },
        "id": "KtqtxMfBMCxW",
        "outputId": "3cfc8c1a-c2c1-4ef5-ec03-6eb7675c4e33"
      },
      "outputs": [
        {
          "output_type": "stream",
          "name": "stdout",
          "text": [
            "Accuracy: 0.95\n",
            "Classification Report:\n",
            "               precision    recall  f1-score   support\n",
            "\n",
            "           0       0.96      0.98      0.97       153\n",
            "           1       0.93      0.85      0.89        47\n",
            "\n",
            "    accuracy                           0.95       200\n",
            "   macro avg       0.94      0.92      0.93       200\n",
            "weighted avg       0.95      0.95      0.95       200\n",
            "\n"
          ]
        },
        {
          "output_type": "execute_result",
          "data": {
            "text/plain": [
              "['model_metadata.pkl']"
            ]
          },
          "metadata": {},
          "execution_count": 5
        }
      ],
      "source": [
        "import pandas as pd\n",
        "import joblib\n",
        "from sklearn.model_selection import train_test_split\n",
        "from sklearn.ensemble import RandomForestClassifier\n",
        "from sklearn.preprocessing import LabelEncoder\n",
        "from sklearn.metrics import accuracy_score, classification_report\n",
        "\n",
        "# Загрузка данных\n",
        "data = pd.read_csv('german_credit_data.csv')\n",
        "\n",
        "# Указание нужных признаков\n",
        "features = [\n",
        "    'Age', 'Sex', 'Job', 'Housing', 'Saving accounts', 'Checking account',\n",
        "    'Credit amount', 'Duration', 'Purpose'\n",
        "]\n",
        "\n",
        "data['Default'] = (data['Credit amount'] / data['Duration'] > 200).astype(int)  # Пример генерации целевого признака\n",
        "\n",
        "target = 'Default'\n",
        "\n",
        "# Предобработка данных\n",
        "# Кодирование категориальных признаков\n",
        "categorical_features = ['Sex', 'Housing', 'Saving accounts', 'Checking account', 'Purpose']\n",
        "label_encoders = {}\n",
        "\n",
        "for feature in categorical_features:\n",
        "    le = LabelEncoder()\n",
        "    data[feature] = le.fit_transform(data[feature].astype(str))\n",
        "    label_encoders[feature] = le\n",
        "\n",
        "# Разделение на признаки и целевой признак\n",
        "X = data[features]\n",
        "y = data[target]\n",
        "\n",
        "# Разделение на обучающую и тестовую выборки\n",
        "X_train, X_test, y_train, y_test = train_test_split(X, y, test_size=0.2, random_state=42)\n",
        "\n",
        "# Обучение модели RandomForestClassifier\n",
        "model = RandomForestClassifier(n_estimators=100, random_state=42)\n",
        "model.fit(X_train, y_train)\n",
        "\n",
        "# Оценка модели\n",
        "predictions = model.predict(X_test)\n",
        "print(\"Accuracy:\", accuracy_score(y_test, predictions))\n",
        "print(\"Classification Report:\\n\", classification_report(y_test, predictions))\n",
        "\n",
        "# Сохранение модели и метаданных\n",
        "joblib.dump(model, 'credit_default_model.pkl')\n",
        "joblib.dump({\n",
        "    'columns': X.columns.tolist(),\n",
        "    'label_encoders': label_encoders\n",
        "}, 'model_metadata.pkl')\n"
      ]
    }
  ]
}
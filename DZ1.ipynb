{
  "nbformat": 4,
  "nbformat_minor": 0,
  "metadata": {
    "colab": {
      "provenance": []
    },
    "kernelspec": {
      "name": "python3",
      "display_name": "Python 3"
    },
    "language_info": {
      "name": "python"
    }
  },
  "cells": [
    {
      "cell_type": "code",
      "execution_count": 1,
      "metadata": {
        "colab": {
          "base_uri": "https://localhost:8080/"
        },
        "id": "prAwI-Q78q9u",
        "outputId": "8ac5f9c5-118b-46da-e037-07732d21c6fc"
      },
      "outputs": [
        {
          "output_type": "stream",
          "name": "stdout",
          "text": [
            "Файл успешно разархивирован.\n",
            "Данные успешно загружены.\n",
            "1) Число столбцов: 15\n",
            "2) Пропусков в данных нет.\n",
            "3) Количество уникальных значений в столбце race: 5\n",
            "4) Медиана hours-per-week: 40.0\n",
            "5) Мужчин с доходом >50K больше. (6662 мужчин vs 1179 женщин)\n",
            "6) Пропуски заполнены наиболее частыми значениями.\n",
            "Обработанные данные сохранены в файл 'adult_filled.csv'.\n"
          ]
        }
      ],
      "source": [
        "import pandas as pd\n",
        "import numpy as np\n",
        "import zipfile\n",
        "\n",
        "zip_file_path = 'adult.zip'
        "extracted_path = 'adult.data'\n",
        "\n",
        "try:\n",
        "    with zipfile.ZipFile(zip_file_path, 'r') as zip_ref:\n",
        "        zip_ref.extractall('.')\n",
        "    print(\"Файл успешно разархивирован.\")\n",
        "except Exception as e:\n",
        "    print(\"Ошибка при разархивации файла:\", e)\n",
        "\n",
        "# Задание названий столбцов согласно описанию набора данных\n",
        "columns = [\n",
        "    'age', 'workclass', 'fnlwgt', 'education', 'education-num', 'marital-status',\n",
        "    'occupation', 'relationship', 'race', 'sex', 'capital-gain', 'capital-loss',\n",
        "    'hours-per-week', 'native-country', 'income'\n",
        "]\n",
        "\n",
        "# Загрузка данных\n",
        "try:\n",
        "    df = pd.read_csv(extracted_path, header=None, names=columns, na_values=\" ?\", skipinitialspace=True)\n",
        "    print(\"Данные успешно загружены.\")\n",
        "except Exception as e:\n",
        "    print(\"Ошибка загрузки данных:\", e)\n",
        "\n",
        "# 1. Число столбцов в наборе данных\n",
        "num_columns = len(df.columns)\n",
        "print(f\"1) Число столбцов: {num_columns}\")\n",
        "\n",
        "# 2. Есть ли пропуски в данных? Если есть, то в каких столбцах\n",
        "missing_data = df.isnull().sum()\n",
        "missing_columns = missing_data[missing_data > 0]\n",
        "if not missing_columns.empty:\n",
        "    print(\"2) Пропуски найдены в следующих столбцах:\")\n",
        "    print(missing_columns)\n",
        "else:\n",
        "    print(\"2) Пропусков в данных нет.\")\n",
        "\n",
        "# 3. Количество уникальных значений в столбце race\n",
        "unique_race = df['race'].nunique()\n",
        "print(f\"3) Количество уникальных значений в столбце race: {unique_race}\")\n",
        "\n",
        "# 4. Медиана hours-per-week\n",
        "median_hours_per_week = df['hours-per-week'].median()\n",
        "print(f\"4) Медиана hours-per-week: {median_hours_per_week}\")\n",
        "\n",
        "# 5. Кого больше - женщин или мужчин с доходом >50K?\n",
        "high_income = df[df['income'] == '>50K']\n",
        "gender_counts = high_income['sex'].value_counts()\n",
        "if gender_counts['Male'] > gender_counts['Female']:\n",
        "    print(f\"5) Мужчин с доходом >50K больше. ({gender_counts['Male']} мужчин vs {gender_counts['Female']} женщин)\")\n",
        "else:\n",
        "    print(f\"5) Женщин с доходом >50K больше. ({gender_counts['Female']} женщин vs {gender_counts['Male']} мужчин)\")\n",
        "\n",
        "# 6. Заполнение пропусков наиболее частыми значениями\n",
        "filled_df = df.copy()\n",
        "for column in missing_columns.index:\n",
        "    most_common = filled_df[column].mode()[0]\n",
        "    filled_df[column].fillna(most_common, inplace=True)\n",
        "\n",
        "print(\"6) Пропуски заполнены наиболее частыми значениями.\")\n",
        "\n",
        "# Альтернативные подходы к заполнению пропусков:\n",
        "# - Заполнение средним (для числовых данных)\n",
        "# - Заполнение медианой (для числовых данных)\n",
        "# - Прогнозирование пропущенных значений на основе других признаков (например, с использованием машинного обучения)\n",
        "\n",
        "# Сохранение обработанного набора данных\n",
        "filled_df.to_csv('adult_filled.csv', index=False)\n",
        "print(\"Обработанные данные сохранены в файл 'adult_filled.csv'.\")\n"
      ]
    }
  ]
}

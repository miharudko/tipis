{
  "nbformat": 4,
  "nbformat_minor": 0,
  "metadata": {
    "colab": {
      "provenance": []
    },
    "kernelspec": {
      "name": "python3",
      "display_name": "Python 3"
    },
    "language_info": {
      "name": "python"
    }
  },
  "cells": [
    {
      "cell_type": "code",
      "execution_count": 1,
      "metadata": {
        "id": "b1hY6N26ocQt"
      },
      "outputs": [],
      "source": [
        "import pandas as pd\n",
        "from sklearn.model_selection import train_test_split\n",
        "from sklearn.feature_extraction import DictVectorizer\n",
        "\n",
        "df = pd.read_csv('jamb_exam_results.csv')\n",
        "\n",
        "df.columns = df.columns.str.lower().str.replace(' ', '_')\n",
        "\n",
        "df = df.drop(columns=['student_id'])\n",
        "\n",
        "df = df.fillna(0)\n",
        "\n",
        "X = df.drop(columns=['jamb_score'])\n",
        "y = df['jamb_score']\n",
        "\n",
        "X_train, X_temp, y_train, y_temp = train_test_split(X, y, test_size=0.4, random_state=1)\n",
        "X_val, X_test, y_val, y_test = train_test_split(X_temp, y_temp, test_size=0.5, random_state=1)\n",
        "\n",
        "dv = DictVectorizer(sparse=True)\n",
        "\n",
        "X_train_dict = X_train.to_dict(orient='records')\n",
        "X_val_dict = X_val.to_dict(orient='records')\n",
        "X_test_dict = X_test.to_dict(orient='records')\n",
        "\n",
        "X_train_encoded = dv.fit_transform(X_train_dict)\n",
        "X_val_encoded = dv.transform(X_val_dict)\n",
        "X_test_encoded = dv.transform(X_test_dict)\n",
        ""
      ]
    },
    {
      "cell_type": "markdown",
      "source": [
        "Вопрос 1"
      ],
      "metadata": {
        "id": "Asv7nAM3pfaM"
      }
    },
    {
      "cell_type": "code",
      "source": [
        "from sklearn.tree import DecisionTreeRegressor\n",
        "\n",
        "model_tree = DecisionTreeRegressor(max_depth=1, random_state=1)\n",
        "model_tree.fit(X_train_encoded, y_train)\n",
        "\n",
        "best_split_feature = model_tree.feature_importances_\n",
        "best_split_idx = best_split_feature.argmax()\n",
        "best_feature_name = dv.get_feature_names_out()[best_split_idx]\n",
        "\n",
        "print(f\"Признак для разбиения: {best_feature_name}\")"
      ],
      "metadata": {
        "colab": {
          "base_uri": "https://localhost:8080/"
        },
        "id": "b6sFe24DpxRb",
        "outputId": "35f4f332-eb7c-490a-c388-45fb3834c5d0"
      },
      "execution_count": 2,
      "outputs": [
        {
          "output_type": "stream",
          "name": "stdout",
          "text": [
            "Признак для разбиения: study_hours_per_week\n"
          ]
        }
      ]
    },
    {
      "cell_type": "markdown",
      "source": [
        "Вопрос 2"
      ],
      "metadata": {
        "id": "qcbbrMk9pzkB"
      }
    },
    {
      "cell_type": "code",
      "source": [
        "from sklearn.ensemble import RandomForestRegressor\n",
        "from sklearn.metrics import mean_squared_error\n",
        "import numpy as np\n",
        "\n",
        "model_rf = RandomForestRegressor(n_estimators=10, random_state=1, n_jobs=-1)\n",
        "model_rf.fit(X_train_encoded, y_train)\n",
        "\n",
        "y_val_pred_rf = model_rf.predict(X_val_encoded)\n",
        "\n",
        "rmse_rf = np.sqrt(mean_squared_error(y_val, y_val_pred_rf))\n",
        "print(f\"RMSE на валидационном наборе: {rmse_rf:.2f}\")"
      ],
      "metadata": {
        "colab": {
          "base_uri": "https://localhost:8080/"
        },
        "id": "gt9wUN9Wp1i3",
        "outputId": "6cd5aa66-623f-4e78-ea0d-9627db3c8a01"
      },
      "execution_count": 3,
      "outputs": [
        {
          "output_type": "stream",
          "name": "stdout",
          "text": [
            "RMSE на валидационном наборе: 43.16\n"
          ]
        }
      ]
    },
    {
      "cell_type": "markdown",
      "source": [
        "Вопрос 3"
      ],
      "metadata": {
        "id": "GLmQjsmup3pg"
      }
    },
    {
      "cell_type": "code",
      "source": [
        "n_estimators_values = range(10, 201, 10)\n",
        "rmse_values = []\n",
        "\n",
        "for n_estimators in n_estimators_values:\n",
        "    model_rf = RandomForestRegressor(n_estimators=n_estimators, random_state=1, n_jobs=-1)\n",
        "    model_rf.fit(X_train_encoded, y_train)\n",
        "\n",
        "    y_val_pred_rf = model_rf.predict(X_val_encoded)\n",
        "    rmse = np.sqrt(mean_squared_error(y_val, y_val_pred_rf))\n",
        "    rmse_values.append(rmse)\n",
        "\n",
        "optimal_n_estimators = n_estimators_values[np.argmin(rmse_values)]\n",
        "print(f\"Лучшее значение n_estimators: {optimal_n_estimators} с RMSE: {min(rmse_values):.3f}\")"
      ],
      "metadata": {
        "colab": {
          "base_uri": "https://localhost:8080/"
        },
        "id": "6ioZkq9Cp5Gf",
        "outputId": "a82400c6-41ad-47d1-eed8-661f407f57c2"
      },
      "execution_count": 4,
      "outputs": [
        {
          "output_type": "stream",
          "name": "stdout",
          "text": [
            "Лучшее значение n_estimators: 180 с RMSE: 40.136\n"
          ]
        }
      ]
    },
    {
      "cell_type": "markdown",
      "source": [
        "Вопрос 4"
      ],
      "metadata": {
        "id": "HgUQ9Rr1p7AV"
      }
    },
    {
      "cell_type": "code",
      "source": [
        "max_depth_values = [10, 15, 20, 25]\n",
        "n_estimators_values = range(10, 201, 10)\n",
        "\n",
        "best_rmse = float('inf')\n",
        "best_max_depth = None\n",
        "best_n_estimators = None\n",
        "\n",
        "for max_depth in max_depth_values:\n",
        "    for n_estimators in n_estimators_values:\n",
        "        model_rf = RandomForestRegressor(n_estimators=n_estimators, max_depth=max_depth, random_state=1, n_jobs=-1)\n",
        "        model_rf.fit(X_train_encoded, y_train)\n",
        "\n",
        "        y_val_pred_rf = model_rf.predict(X_val_encoded)\n",
        "        rmse = np.sqrt(mean_squared_error(y_val, y_val_pred_rf))\n",
        "\n",
        "        if rmse < best_rmse:\n",
        "            best_rmse = rmse\n",
        "            best_max_depth = max_depth\n",
        "            best_n_estimators = n_estimators\n",
        "\n",
        "print(f\"Лучшее значение max_depth: {best_max_depth}, n_estimators: {best_n_estimators} с RMSE: {best_rmse:.3f}\")\n",
        ""
      ],
      "metadata": {
        "colab": {
          "base_uri": "https://localhost:8080/"
        },
        "id": "lU2vy17zp8dk",
        "outputId": "450beb60-f003-471a-fce5-5f9674e64af9"
      },
      "execution_count": 5,
      "outputs": [
        {
          "output_type": "stream",
          "name": "stdout",
          "text": [
            "Лучшее значение max_depth: 10, n_estimators: 180 с RMSE: 39.823\n"
          ]
        }
      ]
    },
    {
      "cell_type": "markdown",
      "source": [
        "Вопрос 5"
      ],
      "metadata": {
        "id": "4z0uFytXp_4k"
      }
    },
    {
      "cell_type": "code",
      "source": [
        "model_rf = RandomForestRegressor(n_estimators=10, max_depth=20, random_state=1, n_jobs=-1)\n",
        "model_rf.fit(X_train_encoded, y_train)\n",
        "\n",
        "feature_importances = model_rf.feature_importances_\n",
        "most_important_feature_idx = feature_importances.argmax()\n",
        "most_important_feature_name = dv.get_feature_names_out()[most_important_feature_idx]\n",
        "\n",
        "print(f\"Самый важный признак: {most_important_feature_name}\")"
      ],
      "metadata": {
        "colab": {
          "base_uri": "https://localhost:8080/"
        },
        "id": "pFsoCe2VqCyQ",
        "outputId": "582909a0-f83c-471d-da25-68d92fff99e2"
      },
      "execution_count": 6,
      "outputs": [
        {
          "output_type": "stream",
          "name": "stdout",
          "text": [
            "Самый важный признак: study_hours_per_week\n"
          ]
        }
      ]
    },
    {
      "cell_type": "markdown",
      "source": [
        "Вопрос 6"
      ],
      "metadata": {
        "id": "yOKfJft8qEsp"
      }
    },
    {
      "cell_type": "code",
      "source": [
        "import xgboost as xgb\n",
        "from sklearn.metrics import mean_squared_error\n",
        "\n",
        "dtrain = xgb.DMatrix(X_train_encoded, label=y_train)\n",
        "dval = xgb.DMatrix(X_val_encoded, label=y_val)\n",
        "\n",
        "watchlist = [(dtrain, 'train'), (dval, 'eval')]\n",
        "\n",
        "xgb_params = {\n",
        "    'eta': 0.3,\n",
        "    'max_depth': 6,\n",
        "    'min_child_weight': 1,\n",
        "    'objective': 'reg:squarederror',\n",
        "    'nthread': 8,\n",
        "    'seed': 1,\n",
        "    'verbosity': 1,\n",
        "}\n",
        "\n",
        "model_xgb = xgb.train(xgb_params, dtrain, num_boost_round=100, evals=watchlist, early_stopping_rounds=10)\n",
        "\n",
        "y_val_pred_xgb = model_xgb.predict(dval)\n",
        "rmse_xgb_0_3 = np.sqrt(mean_squared_error(y_val, y_val_pred_xgb))\n",
        "print(f\"RMSE для eta=0.3: {rmse_xgb_0_3:.3f}\")\n",
        "\n",
        "xgb_params['eta'] = 0.1\n",
        "model_xgb = xgb.train(xgb_params, dtrain, num_boost_round=100, evals=watchlist, early_stopping_rounds=10)\n",
        "\n",
        "y_val_pred_xgb = model_xgb.predict(dval)\n",
        "rmse_xgb_0_1 = np.sqrt(mean_squared_error(y_val, y_val_pred_xgb))\n",
        "print(f\"RMSE для eta=0.1: {rmse_xgb_0_1:.3f}\")\n",
        "\n",
        "if rmse_xgb_0_3 < rmse_xgb_0_1:\n",
        "    print(\"Лучшее значение eta: 0.3\")\n",
        "else:\n",
        "    print(\"Лучшее значение eta: 0.1\")"
      ],
      "metadata": {
        "colab": {
          "base_uri": "https://localhost:8080/"
        },
        "id": "PcaW6SttqIq1",
        "outputId": "76d58ec8-1160-4523-c7b7-6b40b4130625"
      },
      "execution_count": 7,
      "outputs": [
        {
          "output_type": "stream",
          "name": "stdout",
          "text": [
            "[0]\ttrain-rmse:42.84835\teval-rmse:44.52338\n",
            "[1]\ttrain-rmse:39.96423\teval-rmse:42.83406\n",
            "[2]\ttrain-rmse:37.91231\teval-rmse:41.62607\n",
            "[3]\ttrain-rmse:36.51126\teval-rmse:41.25491\n",
            "[4]\ttrain-rmse:35.52212\teval-rmse:40.84075\n",
            "[5]\ttrain-rmse:34.77126\teval-rmse:40.71677\n",
            "[6]\ttrain-rmse:34.03898\teval-rmse:40.72669\n",
            "[7]\ttrain-rmse:33.62820\teval-rmse:40.68822\n",
            "[8]\ttrain-rmse:32.94729\teval-rmse:40.81273\n",
            "[9]\ttrain-rmse:32.27703\teval-rmse:40.84939\n",
            "[10]\ttrain-rmse:31.73818\teval-rmse:40.83759\n",
            "[11]\ttrain-rmse:31.31360\teval-rmse:40.80575\n",
            "[12]\ttrain-rmse:30.72949\teval-rmse:40.84238\n",
            "[13]\ttrain-rmse:30.11486\teval-rmse:40.96020\n",
            "[14]\ttrain-rmse:29.43538\teval-rmse:40.98775\n",
            "[15]\ttrain-rmse:29.23018\teval-rmse:41.04798\n",
            "[16]\ttrain-rmse:28.64113\teval-rmse:41.08375\n",
            "RMSE для eta=0.3: 41.160\n",
            "[0]\ttrain-rmse:45.64414\teval-rmse:46.63724\n",
            "[1]\ttrain-rmse:44.26862\teval-rmse:45.58724\n",
            "[2]\ttrain-rmse:43.08569\teval-rmse:44.76209\n",
            "[3]\ttrain-rmse:42.05227\teval-rmse:44.02498\n",
            "[4]\ttrain-rmse:41.10533\teval-rmse:43.40640\n",
            "[5]\ttrain-rmse:40.28309\teval-rmse:42.92195\n",
            "[6]\ttrain-rmse:39.54133\teval-rmse:42.49211\n",
            "[7]\ttrain-rmse:38.87686\teval-rmse:42.15780\n",
            "[8]\ttrain-rmse:38.27674\teval-rmse:41.84104\n",
            "[9]\ttrain-rmse:37.74058\teval-rmse:41.58026\n",
            "[10]\ttrain-rmse:37.26338\teval-rmse:41.35829\n",
            "[11]\ttrain-rmse:36.82810\teval-rmse:41.19143\n",
            "[12]\ttrain-rmse:36.41091\teval-rmse:41.02571\n",
            "[13]\ttrain-rmse:36.01019\teval-rmse:40.90308\n",
            "[14]\ttrain-rmse:35.67454\teval-rmse:40.79701\n",
            "[15]\ttrain-rmse:35.33492\teval-rmse:40.66274\n",
            "[16]\ttrain-rmse:35.01425\teval-rmse:40.60840\n",
            "[17]\ttrain-rmse:34.72687\teval-rmse:40.55942\n",
            "[18]\ttrain-rmse:34.40588\teval-rmse:40.46321\n",
            "[19]\ttrain-rmse:34.16207\teval-rmse:40.42760\n",
            "[20]\ttrain-rmse:33.94837\teval-rmse:40.40272\n",
            "[21]\ttrain-rmse:33.67900\teval-rmse:40.33790\n",
            "[22]\ttrain-rmse:33.44365\teval-rmse:40.25893\n",
            "[23]\ttrain-rmse:33.15283\teval-rmse:40.23702\n",
            "[24]\ttrain-rmse:32.93544\teval-rmse:40.23146\n",
            "[25]\ttrain-rmse:32.76647\teval-rmse:40.16645\n",
            "[26]\ttrain-rmse:32.63384\teval-rmse:40.17172\n",
            "[27]\ttrain-rmse:32.48413\teval-rmse:40.20266\n",
            "[28]\ttrain-rmse:32.34090\teval-rmse:40.20407\n",
            "[29]\ttrain-rmse:32.10350\teval-rmse:40.20207\n",
            "[30]\ttrain-rmse:31.97085\teval-rmse:40.20269\n",
            "[31]\ttrain-rmse:31.73414\teval-rmse:40.22897\n",
            "[32]\ttrain-rmse:31.54401\teval-rmse:40.19830\n",
            "[33]\ttrain-rmse:31.36899\teval-rmse:40.20204\n",
            "[34]\ttrain-rmse:31.24775\teval-rmse:40.23194\n",
            "[35]\ttrain-rmse:31.15313\teval-rmse:40.25736\n",
            "RMSE для eta=0.1: 40.257\n",
            "Лучшее значение eta: 0.1\n"
          ]
        }
      ]
    }
  ]
}
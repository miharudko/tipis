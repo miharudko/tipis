{
  "nbformat": 4,
  "nbformat_minor": 0,
  "metadata": {
    "colab": {
      "provenance": []
    },
    "kernelspec": {
      "name": "python3",
      "display_name": "Python 3"
    },
    "language_info": {
      "name": "python"
    }
  },
  "cells": [
    {
      "cell_type": "markdown",
      "source": [
        "импорт библиотек"
      ],
      "metadata": {
        "id": "3OHifVI9hxZe"
      }
    },
    {
      "cell_type": "code",
      "source": [
        "import pandas as pd\n",
        "import numpy as np\n",
        "import seaborn as sns\n",
        "import matplotlib.pyplot as plt\n",
        "from sklearn.model_selection import train_test_split\n",
        "from sklearn.preprocessing import OneHotEncoder\n",
        "from sklearn.linear_model import LogisticRegression\n",
        "from sklearn.feature_selection import RFE\n",
        "from sklearn.metrics import accuracy_score\n",
        "from sklearn.feature_selection import mutual_info_classif\n",
        "import zipfile\n",
        "import os\n",
        "from sklearn.feature_selection import mutual_info_classif"
      ],
      "metadata": {
        "id": "pr0Eo27Khz3j"
      },
      "execution_count": 2,
      "outputs": []
    },
    {
      "cell_type": "markdown",
      "source": [
        "Загрузка файла"
      ],
      "metadata": {
        "id": "0k0qD9Srh1uD"
      }
    },
    {
      "cell_type": "code",
      "source": [
        "url = 'https://archive.ics.uci.edu/static/public/222/bank+marketing.zip'\n",
        "!wget $url -O bank-marketing.zip\n",
        "with zipfile.ZipFile('bank-marketing.zip', 'r') as zip_ref:\n",
        "    zip_ref.extractall()\n",
        "\n",
        "\n",
        "os.listdir()\n",
        "if 'bank.zip' in os.listdir():\n",
        "    with zipfile.ZipFile('bank.zip', 'r') as zip_ref:\n",
        "        zip_ref.extractall()\n",
        "\n",
        "\n",
        "os.listdir()\n",
        "try:\n",
        "    df = pd.read_csv('bank-full.csv', sep=';')\n",
        "    print(\"Файл успешно загружен.\")\n",
        "except FileNotFoundError:\n",
        "    print(\"Файл 'bank-full.csv' не найден.\")"
      ],
      "metadata": {
        "colab": {
          "base_uri": "https://localhost:8080/"
        },
        "id": "Ri46k2Y2h_Z-",
        "outputId": "f94dc5d4-538a-49d7-bdb6-9129b9768a78"
      },
      "execution_count": 3,
      "outputs": [
        {
          "output_type": "stream",
          "name": "stdout",
          "text": [
            "--2024-12-15 04:22:08--  https://archive.ics.uci.edu/static/public/222/bank+marketing.zip\n",
            "Resolving archive.ics.uci.edu (archive.ics.uci.edu)... 128.195.10.252\n",
            "Connecting to archive.ics.uci.edu (archive.ics.uci.edu)|128.195.10.252|:443... connected.\n",
            "HTTP request sent, awaiting response... 200 OK\n",
            "Length: unspecified\n",
            "Saving to: ‘bank-marketing.zip’\n",
            "\n",
            "bank-marketing.zip      [     <=>            ] 999.85K  1.02MB/s    in 1.0s    \n",
            "\n",
            "2024-12-15 04:22:09 (1.02 MB/s) - ‘bank-marketing.zip’ saved [1023843]\n",
            "\n",
            "Файл успешно загружен.\n"
          ]
        }
      ]
    },
    {
      "cell_type": "markdown",
      "source": [
        "Подготовка данных\n",
        "Выберите только указанные выше признаки.\n",
        "Проверьте, есть ли пропущенные значения в этих признаках."
      ],
      "metadata": {
        "id": "wyITzD6giTEI"
      }
    },
    {
      "cell_type": "code",
      "source": [
        "columns_to_use = ['age', 'job', 'marital', 'education', 'balance', 'housing', 'contact', 'day', 'month', 'duration', 'campaign', 'pdays', 'previous', 'poutcome', 'y']\n",
        "df = df[columns_to_use]\n",
        "\n",
        "\n",
        "print(\"Пропущенные значения в столбцах:\\n\", df.isnull().sum())"
      ],
      "metadata": {
        "colab": {
          "base_uri": "https://localhost:8080/"
        },
        "id": "lxgLvF1iiT4d",
        "outputId": "b03a6c0d-065d-4411-ec06-b18b3752f9e8"
      },
      "execution_count": 4,
      "outputs": [
        {
          "output_type": "stream",
          "name": "stdout",
          "text": [
            "Пропущенные значения в столбцах:\n",
            " age          0\n",
            "job          0\n",
            "marital      0\n",
            "education    0\n",
            "balance      0\n",
            "housing      0\n",
            "contact      0\n",
            "day          0\n",
            "month        0\n",
            "duration     0\n",
            "campaign     0\n",
            "pdays        0\n",
            "previous     0\n",
            "poutcome     0\n",
            "y            0\n",
            "dtype: int64\n"
          ]
        }
      ]
    },
    {
      "cell_type": "markdown",
      "source": [
        "Какое самое частое значение (mode) для столбца education?"
      ],
      "metadata": {
        "id": "sXDDI5m4iXXo"
      }
    },
    {
      "cell_type": "code",
      "source": [
        "most_common_education = df['education'].mode()[0]\n",
        "print(f\"Самое частое значение для столбца education: {most_common_education}\")"
      ],
      "metadata": {
        "colab": {
          "base_uri": "https://localhost:8080/"
        },
        "id": "UfFacEWRieE0",
        "outputId": "3dcb5571-1cc0-4031-91a1-078bb8baa600"
      },
      "execution_count": 5,
      "outputs": [
        {
          "output_type": "stream",
          "name": "stdout",
          "text": [
            "Самое частое значение для столбца education: secondary\n"
          ]
        }
      ]
    },
    {
      "cell_type": "markdown",
      "source": [
        "Создайте корреляционную матрицу для числовых признаков вашего датасета.\n",
        "В корреляционной матрице вычислите коэффициент корреляции между каждой парой признаков.\n",
        "\n",
        "Какие два признака имеют наибольшую корреляцию?"
      ],
      "metadata": {
        "id": "nmVKtJLzig5C"
      }
    },
    {
      "cell_type": "code",
      "source": [
        "numerical_cols = ['age', 'balance', 'day', 'duration', 'campaign', 'pdays', 'previous']\n",
        "corr_matrix = df[numerical_cols].corr()\n",
        "\n",
        "\n",
        "plt.figure(figsize=(10, 6))\n",
        "sns.heatmap(corr_matrix, annot=True, cmap='coolwarm', fmt='.2f')\n",
        "plt.title('Корреляционная матрица')\n",
        "plt.show()\n",
        "max_corr = corr_matrix.abs().unstack().sort_values(ascending=False).drop_duplicates()\n",
        "max_corr_pairs = max_corr[max_corr != 1]\n",
        "max_corr_pair = max_corr_pairs.idxmax()\n",
        "print(f\"Наибольшая корреляция: {max_corr_pair} с коэффициентом {max_corr[max_corr_pair]:.2f}\")"
      ],
      "metadata": {
        "colab": {
          "base_uri": "https://localhost:8080/",
          "height": 563
        },
        "id": "mt-FhJJEiqh9",
        "outputId": "0b97a2ca-2963-484b-9294-b4874d721c6b"
      },
      "execution_count": 6,
      "outputs": [
        {
          "output_type": "display_data",
          "data": {
            "text/plain": [
              "<Figure size 1000x600 with 2 Axes>"
            ],
            "image/png": "[encoded data removed]"
          },
          "metadata": {}
        },
        {
          "output_type": "stream",
          "name": "stdout",
          "text": [
            "Наибольшая корреляция: ('previous', 'pdays') с коэффициентом 0.45\n"
          ]
        }
      ]
    },
    {
      "cell_type": "markdown",
      "source": [
        "Вопрос 3\n"
      ],
      "metadata": {
        "id": "aUkKEIoFixBE"
      }
    },
    {
      "cell_type": "code",
      "source": [
        "\n",
        "X = df.drop(columns='y')\n",
        "y = df['y'].map({'yes': 1, 'no': 0})\n",
        "\n",
        "\n",
        "categorical_cols = ['job', 'marital', 'education', 'housing', 'contact', 'month', 'poutcome']\n",
        "X_categorical = X[categorical_cols]\n",
        "\n",
        "\n",
        "X_categorical_encoded = pd.get_dummies(X_categorical)\n",
        "\n",
        "\n",
        "mi = mutual_info_classif(X_categorical_encoded, y)\n",
        "\n",
        "\n",
        "mi_scores = pd.Series(mi, index=X_categorical_encoded.columns).sort_values(ascending=False)\n",
        "\n",
        "\n",
        "print(f\"Взаимная информация между y и категориальными переменными:\\n{mi_scores}\")\n",
        "max_mi_feature = mi_scores.idxmax()\n",
        "print(f\"Переменная с наибольшей взаимной информацией: {max_mi_feature}\")"
      ],
      "metadata": {
        "colab": {
          "base_uri": "https://localhost:8080/"
        },
        "id": "rteAAVdwi6TF",
        "outputId": "edd17577-e713-42d6-8a3a-34c8686115b7"
      },
      "execution_count": 7,
      "outputs": [
        {
          "output_type": "stream",
          "name": "stdout",
          "text": [
            "Взаимная информация между y и категориальными переменными:\n",
            "poutcome_success       0.026401\n",
            "poutcome_unknown       0.018158\n",
            "contact_cellular       0.016802\n",
            "contact_unknown        0.015942\n",
            "housing_yes            0.015909\n",
            "housing_no             0.013533\n",
            "education_secondary    0.010207\n",
            "marital_married        0.008528\n",
            "month_oct              0.006172\n",
            "month_mar              0.005285\n",
            "month_may              0.005164\n",
            "month_sep              0.004135\n",
            "education_tertiary     0.004114\n",
            "job_blue-collar        0.004089\n",
            "marital_single         0.003006\n",
            "month_apr              0.002478\n",
            "job_retired            0.002299\n",
            "month_jul              0.002010\n",
            "job_student            0.002006\n",
            "month_feb              0.001737\n",
            "job_entrepreneur       0.001645\n",
            "job_management         0.001377\n",
            "month_dec              0.001342\n",
            "job_technician         0.001241\n",
            "job_unknown            0.001038\n",
            "education_primary      0.001024\n",
            "month_nov              0.000657\n",
            "job_services           0.000583\n",
            "month_jun              0.000514\n",
            "poutcome_failure       0.000346\n",
            "job_admin.             0.000293\n",
            "job_self-employed      0.000207\n",
            "contact_telephone      0.000150\n",
            "poutcome_other         0.000034\n",
            "month_jan              0.000000\n",
            "month_aug              0.000000\n",
            "job_housemaid          0.000000\n",
            "education_unknown      0.000000\n",
            "marital_divorced       0.000000\n",
            "job_unemployed         0.000000\n",
            "dtype: float64\n",
            "Переменная с наибольшей взаимной информацией: poutcome_success\n"
          ]
        }
      ]
    },
    {
      "cell_type": "markdown",
      "source": [
        "Вопрос 4"
      ],
      "metadata": {
        "id": "AizRwz4ji_if"
      }
    },
    {
      "cell_type": "code",
      "source": [
        "X_train, X_val, y_train, y_val = train_test_split(df.drop(columns='y'), y, test_size=0.2, random_state=42)\n",
        "\n",
        "\n",
        "X_train_encoded = pd.get_dummies(X_train)\n",
        "X_val_encoded = pd.get_dummies(X_val)\n",
        "\n",
        "\n",
        "\n",
        "model = LogisticRegression(solver='liblinear', C=1.0, max_iter=1000, random_state=42)\n",
        "model.fit(X_train_encoded, y_train)\n",
        "y_val_pred = model.predict(X_val_encoded)\n",
        "accuracy = accuracy_score(y_val, y_val_pred)\n",
        "print(f\"Точность модели на валидационном наборе: {accuracy:.2f}\")"
      ],
      "metadata": {
        "colab": {
          "base_uri": "https://localhost:8080/"
        },
        "id": "NWho5A2njAZd",
        "outputId": "04f891ef-720e-4e7e-803d-953a233deb73"
      },
      "execution_count": 8,
      "outputs": [
        {
          "output_type": "stream",
          "name": "stdout",
          "text": [
            "Точность модели на валидационном наборе: 0.90\n"
          ]
        }
      ]
    },
    {
      "cell_type": "markdown",
      "source": [
        "Вопрос 5"
      ],
      "metadata": {
        "id": "a5fG7gs6jF74"
      }
    },
    {
      "cell_type": "code",
      "source": [
        "rfe = RFE(model, n_features_to_select=1)\n",
        "rfe.fit(X_train_encoded, y_train)\n",
        "ranking = pd.Series(rfe.ranking_, index=X_train_encoded.columns).sort_values()\n",
        "print(f\"Рейтинг признаков:\\n{ranking}\")"
      ],
      "metadata": {
        "colab": {
          "base_uri": "https://localhost:8080/"
        },
        "id": "XtN04GDDjHsZ",
        "outputId": "13addf7d-eaed-4b86-836f-05e742d27773"
      },
      "execution_count": 9,
      "outputs": [
        {
          "output_type": "stream",
          "name": "stdout",
          "text": [
            "Рейтинг признаков:\n",
            "poutcome_success        1\n",
            "month_mar               2\n",
            "month_sep               3\n",
            "month_oct               4\n",
            "month_dec               5\n",
            "contact_unknown         6\n",
            "housing_yes             7\n",
            "month_jan               8\n",
            "month_aug               9\n",
            "month_jul              10\n",
            "month_nov              11\n",
            "month_may              12\n",
            "month_feb              13\n",
            "job_student            14\n",
            "poutcome_failure       15\n",
            "poutcome_unknown       16\n",
            "poutcome_other         17\n",
            "job_retired            18\n",
            "marital_married        19\n",
            "job_unemployed         20\n",
            "education_primary      21\n",
            "contact_cellular       22\n",
            "education_secondary    23\n",
            "education_unknown      24\n",
            "month_jun              25\n",
            "month_apr              26\n",
            "job_unknown            27\n",
            "job_housemaid          28\n",
            "contact_telephone      29\n",
            "marital_divorced       30\n",
            "campaign               31\n",
            "job_entrepreneur       32\n",
            "job_blue-collar        33\n",
            "job_technician         34\n",
            "housing_no             35\n",
            "job_services           36\n",
            "job_management         37\n",
            "job_self-employed      38\n",
            "job_admin.             39\n",
            "education_tertiary     40\n",
            "marital_single         41\n",
            "previous               42\n",
            "day                    43\n",
            "duration               44\n",
            "age                    45\n",
            "pdays                  46\n",
            "balance                47\n",
            "dtype: int64\n"
          ]
        }
      ]
    },
    {
      "cell_type": "markdown",
      "source": [
        "Вопрос 6"
      ],
      "metadata": {
        "id": "cRy6-95qjOdL"
      }
    },
    {
      "cell_type": "code",
      "source": [
        "C_values = [0.01, 0.1, 1, 10]\n",
        "\n",
        "\n",
        "accuracies = []\n",
        "\n",
        "\n",
        "for C in C_values:\n",
        "    model_reg = LogisticRegression(solver='liblinear', C=C, max_iter=1000, random_state=42)\n",
        "    model_reg.fit(X_train_encoded, y_train)\n",
        "    y_val_pred_reg = model_reg.predict(X_val_encoded)\n",
        "    accuracy_reg = accuracy_score(y_val, y_val_pred_reg)\n",
        "    accuracies.append(accuracy_reg)\n",
        "\n",
        "\n",
        "best_C = C_values[np.argmax(accuracies)]\n",
        "best_accuracy = max(accuracies)\n",
        "\n",
        "\n",
        "print(f\"Лучшее значение C: {best_C}, Точность на валидационном наборе: {best_accuracy:.3f}\")"
      ],
      "metadata": {
        "colab": {
          "base_uri": "https://localhost:8080/"
        },
        "id": "15nnafyNjQ2l",
        "outputId": "9d8748ed-d054-4f1a-b638-ca30ed86b2ff"
      },
      "execution_count": 10,
      "outputs": [
        {
          "output_type": "stream",
          "name": "stdout",
          "text": [
            "Лучшее значение C: 1, Точность на валидационном наборе: 0.899\n"
          ]
        }
      ]
    }
  ]
}
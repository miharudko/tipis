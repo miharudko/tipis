{
  "nbformat": 4,
  "nbformat_minor": 0,
  "metadata": {
    "colab": {
      "provenance": []
    },
    "kernelspec": {
      "name": "python3",
      "display_name": "Python 3"
    },
    "language_info": {
      "name": "python"
    }
  },
  "cells": [
    {
      "cell_type": "code",
      "execution_count": 2,
      "metadata": {
        "id": "9ComvWhyklgI"
      },
      "outputs": [],
      "source": [
        "import pandas as pd\n",
        "from sklearn.model_selection import train_test_split\n",
        "\n",
        "df = pd.read_csv('bank-full.csv', sep=';')\n",
        "\n",
        "columns = ['age', 'job', 'marital', 'education', 'balance', 'housing', 'contact', 'day', 'month', 'duration', 'campaign', 'pdays', 'previous', 'poutcome', 'y']\n",
        "df = df[columns]\n",
        "\n",
        "df['y'] = df['y'].map({'yes': 1, 'no': 0})\n",
        "\n",
        "X = df.drop('y', axis=1)\n",
        "y = df['y']\n",
        "\n",
        "X_train, X_temp, y_train, y_temp = train_test_split(X, y, test_size=0.4, random_state=1)\n",
        "X_val, X_test, y_val, y_test = train_test_split(X_temp, y_temp, test_size=0.5, random_state=1)"
      ]
    },
    {
      "cell_type": "markdown",
      "source": [
        "Вопрос 1 Важность признаков по ROC AUC"
      ],
      "metadata": {
        "id": "xMMTIzO4k3t_"
      }
    },
    {
      "cell_type": "code",
      "source": [
        "from sklearn.metrics import roc_auc_score\n",
        "\n",
        "numerical_features = ['age', 'balance', 'day', 'duration', 'previous']\n",
        "\n",
        "auc_scores = {}\n",
        "\n",
        "for feature in numerical_features:\n",
        "    auc = roc_auc_score(y_train, X_train[feature])\n",
        "\n",
        "    if auc < 0.5:\n",
        "        auc = roc_auc_score(y_train, -X_train[feature])\n",
        "        auc_scores[feature] = auc\n",
        "\n",
        "    else:\n",
        "        auc_scores[feature] = auc\n",
        "\n",
        "sorted_auc = sorted(auc_scores.items(), key=lambda x: x[1], reverse=True)\n",
        "print(f\"Наивысший AUC: {sorted_auc[0]}\")"
      ],
      "metadata": {
        "colab": {
          "base_uri": "https://localhost:8080/"
        },
        "id": "STSgKihvk5Ye",
        "outputId": "bbc4f011-a7a3-4332-e137-f58b517310c6"
      },
      "execution_count": 3,
      "outputs": [
        {
          "output_type": "stream",
          "name": "stdout",
          "text": [
            "Наивысший AUC: ('duration', 0.8128648066681694)\n"
          ]
        }
      ]
    },
    {
      "cell_type": "markdown",
      "source": [
        "Вопрос 2 Обучение модели"
      ],
      "metadata": {
        "id": "FlZO9JXmk7gK"
      }
    },
    {
      "cell_type": "code",
      "source": [
        "\n",
        "from sklearn.feature_extraction import DictVectorizer\n",
        "from sklearn.linear_model import LogisticRegression\n",
        "from sklearn.metrics import roc_auc_score\n",
        "\n",
        "dict_vectorizer = DictVectorizer(sparse=False)\n",
        "\n",
        "X_train_dict = X_train.to_dict(orient='records')\n",
        "X_val_dict = X_val.to_dict(orient='records')\n",
        "\n",
        "X_train_encoded = dict_vectorizer.fit_transform(X_train_dict)\n",
        "X_val_encoded = dict_vectorizer.transform(X_val_dict)\n",
        "\n",
        "model = LogisticRegression(solver='liblinear', C=1.0, max_iter=1000)\n",
        "model.fit(X_train_encoded, y_train)\n",
        "\n",
        "y_val_pred = model.predict_proba(X_val_encoded)[:, 1]\n",
        "auc = roc_auc_score(y_val, y_val_pred)\n",
        "\n",
        "print(f\"AUC на валидационном наборе: {auc:.3f}\")\n"
      ],
      "metadata": {
        "colab": {
          "base_uri": "https://localhost:8080/"
        },
        "id": "DMWt1f0Tk9Ah",
        "outputId": "8843f5bc-57bb-4f7c-95ee-381018be46be"
      },
      "execution_count": 4,
      "outputs": [
        {
          "output_type": "stream",
          "name": "stdout",
          "text": [
            "AUC на валидационном наборе: 0.900\n"
          ]
        }
      ]
    },
    {
      "cell_type": "markdown",
      "source": [
        "Вопрос 3 Точность и полнота"
      ],
      "metadata": {
        "id": "4PxdOQtek_XT"
      }
    },
    {
      "cell_type": "code",
      "source": [
        "import matplotlib.pyplot as plt\n",
        "from sklearn.metrics import precision_recall_curve\n",
        "\n",
        "precision, recall, thresholds = precision_recall_curve(y_val, y_val_pred)\n",
        "\n",
        "plt.figure(figsize=(10,5))\n",
        "\n",
        "plt.subplot(1, 2, 1)\n",
        "plt.plot(thresholds, precision[:-1], label='Precision')\n",
        "plt.plot(thresholds, recall[:-1], label='Recall')\n",
        "plt.xlabel('Порог')\n",
        "plt.ylabel('Метрики')\n",
        "plt.title('Precision и Recall')\n",
        "plt.legend()\n",
        "\n",
        "intersection_threshold = thresholds[abs(precision - recall).argmin()]\n",
        "print(f\"Порог, при котором Precision и Recall пересекаются: {intersection_threshold:.3f}\")"
      ],
      "metadata": {
        "colab": {
          "base_uri": "https://localhost:8080/",
          "height": 505
        },
        "id": "u9IsSc7blBKq",
        "outputId": "d2f565e2-7c2a-40e1-b7f0-85e69a965b05"
      },
      "execution_count": 5,
      "outputs": [
        {
          "output_type": "stream",
          "name": "stdout",
          "text": [
            "Порог, при котором Precision и Recall пересекаются: 0.289\n"
          ]
        },
        {
          "output_type": "display_data",
          "data": {
            "text/plain": [
              "<Figure size 1000x500 with 1 Axes>"
            ],
            "image/png": "[encoded data removed]"
          },
          "metadata": {}
        }
      ]
    },
    {
      "cell_type": "markdown",
      "source": [
        "Вопрос 4 F1 score"
      ],
      "metadata": {
        "id": "fj3_1ORelDR0"
      }
    },
    {
      "cell_type": "code",
      "source": [
        "from sklearn.metrics import f1_score\n",
        "\n",
        "f1_scores = [f1_score(y_val, y_val_pred > threshold) for threshold in thresholds]\n",
        "\n",
        "best_threshold = thresholds[f1_scores.index(max(f1_scores))]\n",
        "print(f\"Порог для максимального F1: {best_threshold:.3f}\")"
      ],
      "metadata": {
        "colab": {
          "base_uri": "https://localhost:8080/"
        },
        "id": "LCpT0M8xlFxN",
        "outputId": "b301e3ac-f5e6-4496-8683-dce0643c2d14"
      },
      "execution_count": 6,
      "outputs": [
        {
          "output_type": "stream",
          "name": "stdout",
          "text": [
            "Порог для максимального F1: 0.199\n"
          ]
        }
      ]
    },
    {
      "cell_type": "markdown",
      "source": [
        "Вопрос 5 5-кратная кросс-валидация"
      ],
      "metadata": {
        "id": "6v9pJHfxlHlm"
      }
    },
    {
      "cell_type": "code",
      "source": [
        "from sklearn.model_selection import KFold\n",
        "import numpy as np\n",
        "\n",
        "kf = KFold(n_splits=5, shuffle=True, random_state=1)\n",
        "auc_scores_kfold = []\n",
        "\n",
        "for train_index, val_index in kf.split(X_train_encoded):\n",
        "    X_train_fold, X_val_fold = X_train_encoded[train_index], X_train_encoded[val_index]\n",
        "    y_train_fold, y_val_fold = y_train.iloc[train_index], y_train.iloc[val_index]\n",
        "\n",
        "    model = LogisticRegression(solver='liblinear', C=1.0, max_iter=1000)\n",
        "    model.fit(X_train_fold, y_train_fold)\n",
        "\n",
        "    y_val_pred_fold = model.predict_proba(X_val_fold)[:, 1]\n",
        "    auc_fold = roc_auc_score(y_val_fold, y_val_pred_fold)\n",
        "    auc_scores_kfold.append(auc_fold)\n",
        "\n",
        "std_error = np.std(auc_scores_kfold)\n",
        "print(f\"Стандартная ошибка: {std_error:.3f}\")"
      ],
      "metadata": {
        "colab": {
          "base_uri": "https://localhost:8080/"
        },
        "id": "7xouTFdClJzB",
        "outputId": "1ba8040d-5550-40f7-8dd3-2b3369e4e254"
      },
      "execution_count": 7,
      "outputs": [
        {
          "output_type": "stream",
          "name": "stdout",
          "text": [
            "Стандартная ошибка: 0.004\n"
          ]
        }
      ]
    },
    {
      "cell_type": "markdown",
      "source": [
        "Вопрос 6 Тюнинг гиперпараметров"
      ],
      "metadata": {
        "id": "Vvo3OUDSlMB_"
      }
    },
    {
      "cell_type": "code",
      "source": [
        "C_values = [0.000001, 0.001, 1]\n",
        "\n",
        "mean_aucs = []\n",
        "std_aucs = []\n",
        "\n",
        "for C in C_values:\n",
        "    auc_scores_C = []\n",
        "\n",
        "    for train_index, val_index in kf.split(X_train_encoded):\n",
        "        X_train_fold, X_val_fold = X_train_encoded[train_index], X_train_encoded[val_index]\n",
        "        y_train_fold, y_val_fold = y_train.iloc[train_index], y_train.iloc[val_index]\n",
        "\n",
        "        model = LogisticRegression(solver='liblinear', C=C, max_iter=1000)\n",
        "        model.fit(X_train_fold, y_train_fold)\n",
        "\n",
        "        y_val_pred_fold = model.predict_proba(X_val_fold)[:, 1]\n",
        "        auc_fold = roc_auc_score(y_val_fold, y_val_pred_fold)\n",
        "        auc_scores_C.append(auc_fold)\n",
        "\n",
        "    mean_auc = np.mean(auc_scores_C)\n",
        "    std_auc = np.std(auc_scores_C)\n",
        "\n",
        "    mean_aucs.append(mean_auc)\n",
        "    std_aucs.append(std_auc)\n",
        "\n",
        "best_C = C_values[np.argmax(mean_aucs)]\n",
        "best_std_error = min(std_aucs)\n",
        "\n",
        "print(f\"Лучшее значение C: {best_C}, Среднее AUC: {mean_aucs[np.argmax(mean_aucs)]:.3f}, Стандартная ошибка: {best_std_error:.3f}\")\n"
      ],
      "metadata": {
        "colab": {
          "base_uri": "https://localhost:8080/"
        },
        "id": "aM-qGQRslN2a",
        "outputId": "3d2073a5-8114-4633-a717-40c619f7a16b"
      },
      "execution_count": 8,
      "outputs": [
        {
          "output_type": "stream",
          "name": "stdout",
          "text": [
            "Лучшее значение C: 1, Среднее AUC: 0.908, Стандартная ошибка: 0.004\n"
          ]
        }
      ]
    }
  ]
}